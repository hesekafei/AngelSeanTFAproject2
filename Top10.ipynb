{
 "cells": [
  {
   "cell_type": "code",
   "execution_count": null,
   "metadata": {},
   "outputs": [
    {
     "ename": "",
     "evalue": "",
     "output_type": "error",
     "traceback": [
      "\u001b[1;31m无法启动 Jupyter。试图定位jupyter时出错：在解释器 Python 3.8.2 64-bit 中没有安装数据科学库 notebook 和 jupyter。\n",
      "Run the following command to install 'jupyter 和 notebook' into the Python environment. \n",
      "Command: 'conda install -n base jupyter notebook'"
     ]
    }
   ],
   "source": [
    "import pandas as pd\n",
    "import numpy as np\n",
    "data = \"311_Service_Requests_2020.csv\"\n",
    "df = pd.read_csv(data)"
   ]
  },
  {
   "cell_type": "code",
   "execution_count": null,
   "metadata": {},
   "outputs": [],
   "source": [
    "df"
   ]
  },
  {
   "cell_type": "code",
   "execution_count": null,
   "metadata": {},
   "outputs": [],
   "source": [
    "top10=pd.Series(df[df['Incident Zip']==10025]['Complaint Type']).value_counts().head(10)\n",
    "top10"
   ]
  }
 ],
 "metadata": {
  "interpreter": {
   "hash": "c614d34be4f254475da27e37e7b9f2fba61c8e9dda42f84964aedd12d0291acf"
  },
  "kernelspec": {
   "display_name": "Python 3.8.5 64-bit ('base': conda)",
   "language": "python",
   "name": "python3"
  },
  "language_info": {
   "name": "python",
   "version": "3.8.5"
  },
  "orig_nbformat": 4
 },
 "nbformat": 4,
 "nbformat_minor": 2
}
